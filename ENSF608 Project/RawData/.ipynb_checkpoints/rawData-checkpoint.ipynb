{
 "cells": [
  {
   "cell_type": "code",
   "execution_count": 3,
   "id": "f8efd9c1",
   "metadata": {},
   "outputs": [],
   "source": [
    "import requests\n",
    "from bs4 import BeautifulSoup as soup\n",
    "\n",
    "# constructs the query for webscraping, main variable is the url string\n",
    "def scrapeData(city, province):\n",
    "    header = {'user-agent': 'Mozilla/5.0 (Windows NT 10.0; WOW64)AppleWebKit/537.36 (KHTML, like Gecko)Chrome/83.0.4103.97 Safari/537.36',        \n",
    "          'referer':'https://www.zillow.com/homes/for_rent/Manhattan,-New-York,-NY_rb/?searchQueryState=%7B%22pagination'}\n",
    " \n",
    "    # Enter Zillow URL for the city of your preference\n",
    "    url = 'https://www.zillow.com/homes/for_sale/' + city + ',-' + province + '_rb/'\n",
    "    html = requests.get(url=url,headers=header)\n",
    "    html.status_code\n",
    "    bsobj = soup(html.content,'lxml')\n",
    "    return bsobj"
   ]
  },
  {
   "cell_type": "markdown",
   "id": "e54372a6",
   "metadata": {},
   "source": [
    "# webscraping guide for zillow found here https://www.octoparse.com/blog/how-to-scrape-zillow-data#"
   ]
  },
  {
   "cell_type": "code",
   "execution_count": 4,
   "id": "40cabb12",
   "metadata": {},
   "outputs": [],
   "source": [
    "#grab home price from soup object\n",
    "def getPrice(bsobj):\n",
    "    price_list = [] \n",
    "\n",
    "    # loop through the price section of the data and extract\n",
    "\n",
    "    # the text and store it in the list.\n",
    "    for price in bsobj.findAll('span',{'data-test':'property-card-price'}):\n",
    "        price = price.get_text()[2::]\n",
    "        price_list.append(int(price.replace(',','')))\n",
    "    \n",
    "    return price_list"
   ]
  },
  {
   "cell_type": "code",
   "execution_count": 5,
   "id": "26cecd59",
   "metadata": {},
   "outputs": [],
   "source": [
    "def getAddress(bsobj):\n",
    "    address = []\n",
    "\n",
    "\n",
    "    # loop through the address section of the data\n",
    "\n",
    "    # and extract the text and store it in the list.\n",
    "    for adr in bsobj.findAll('address',{'data-test':'property-card-addr'}):\n",
    "        address.append(adr.get_text().strip())\n",
    "    return address"
   ]
  },
  {
   "cell_type": "code",
   "execution_count": 6,
   "id": "80037eb3",
   "metadata": {},
   "outputs": [],
   "source": [
    "import re\n",
    "def getMLS(bsobj):\n",
    "    mls = []\n",
    "\n",
    "\n",
    "    # loop through the MLS section of the data\n",
    "\n",
    "    # and extract the text and store it in the list.\n",
    "    for adr in bsobj.findAll('div',{'class':'StyledPropertyCardDataArea-c11n-8-73-8__sc-yipmu-0 hTcpwx'}):\n",
    "        try:\n",
    "            mls.append(re.findall(r\"\\w+\", adr.get_text().strip())[2])\n",
    "        except:\n",
    "            mls.append(\"Null\")\n",
    "    return mls"
   ]
  },
  {
   "cell_type": "code",
   "execution_count": 7,
   "id": "acf5a888",
   "metadata": {},
   "outputs": [],
   "source": [
    "def getPropertyFeature(bsobj):\n",
    "    bed = [] \n",
    "    bath = []\n",
    "    footage = []\n",
    "\n",
    "    # loop through the features of the home (# of bds, ba, and house size) of the data\n",
    "    for item in bsobj.findAll('span',{'class':'StyledPropertyCardHomeDetails-c11n-8-73-8__sc-1mlc4v9-0 jlVIIO'}):\n",
    "        x = re.findall(r\"\\d+\", item.get_text().strip().replace(',',''))\n",
    "        try:\n",
    "            bed.append(int(x[0]))\n",
    "        except:\n",
    "            bed.append(0)\n",
    "        \n",
    "        try:\n",
    "            bath.append(int(x[1]))\n",
    "        except:\n",
    "            bath.append(0)\n",
    "            \n",
    "        try:\n",
    "            footage.append(int(x[2]))\n",
    "        except:\n",
    "            footage.append(0)\n",
    "            \n",
    "    return bed, bath, footage"
   ]
  },
  {
   "cell_type": "code",
   "execution_count": 12,
   "id": "7732e63a",
   "metadata": {},
   "outputs": [
    {
     "name": "stdout",
     "output_type": "stream",
     "text": [
      "        MLS       City Province  \\\n",
      "0  SK913993  Saskatoon       SK   \n",
      "1  SK914061  Saskatoon       SK   \n",
      "2  SK914153  Saskatoon       SK   \n",
      "3  SK914148  Saskatoon       SK   \n",
      "4  SK914086  Saskatoon       SK   \n",
      "5  SK914075  Saskatoon       SK   \n",
      "6  SK914144  Saskatoon       SK   \n",
      "7  SK914082  Saskatoon       SK   \n",
      "8  SK914108  Saskatoon       SK   \n",
      "\n",
      "                                           Address   Price  NumberOfBeds  \\\n",
      "0          207 Lehrer PLACE, Saskatoon, SK S7R 0L4  669900             3   \n",
      "1        3104 Ortona STREET, Saskatoon, SK S7M 3R4  619900             3   \n",
      "2      714A Victoria AVENUE, Saskatoon, SK S7N 0Z2  374900             3   \n",
      "3    246 Frobisher CRESCENT, Saskatoon, SK S7K 4Y7  479900             5   \n",
      "4         739 Hastings COVE, Saskatoon, SK S7V 0G6  899900             4   \n",
      "5        334 Crean CRESCENT, Saskatoon, SK S7J 3X2  419900             4   \n",
      "6  962 Kloppenburg CRESCENT, Saskatoon, SK S7W 0P2  559900             5   \n",
      "7       2435 Rosewood DRIVE, Saskatoon, SK S7V 0Z3  554300             3   \n",
      "8               1 Bow COURT, Saskatoon, SK S7K 1H9  399000             4   \n",
      "\n",
      "   NumberOfBaths  Footage  \n",
      "0              2     1744  \n",
      "1              3     1470  \n",
      "2              3     1290  \n",
      "3              3     1953  \n",
      "4              3     1837  \n",
      "5              3     1295  \n",
      "6              3     1574  \n",
      "7              3     1737  \n",
      "8              3     1136  \n"
     ]
    },
    {
     "name": "stderr",
     "output_type": "stream",
     "text": [
      "C:\\Users\\Calgary123\\AppData\\Local\\Temp\\ipykernel_6800\\2536140206.py:34: FutureWarning: The frame.append method is deprecated and will be removed from pandas in a future version. Use pandas.concat instead.\n",
      "  df = df.append(tempDF)\n"
     ]
    },
    {
     "name": "stdout",
     "output_type": "stream",
     "text": [
      "        MLS      City Province  \\\n",
      "0  E4320360  Edmonton       AB   \n",
      "1  E4320364  Edmonton       AB   \n",
      "2  E4320358  Edmonton       AB   \n",
      "3  E4320355  Edmonton       AB   \n",
      "4  E4320309  Edmonton       AB   \n",
      "5  E4320357  Edmonton       AB   \n",
      "6  E4320331  Edmonton       AB   \n",
      "7  E4320291  Edmonton       AB   \n",
      "8  E4320295  Edmonton       AB   \n",
      "\n",
      "                                             Address   Price  NumberOfBeds  \\\n",
      "0             14611 95th St NW, Edmonton, AB T5E 3Y7  575000             6   \n",
      "1            10465 42nd Ave NW, Edmonton, AB T6J 7C7  429900             2   \n",
      "2            10346 142nd St NW, Edmonton, AB T5N 2P1  393000             5   \n",
      "3            5512 145th Ave NW, Edmonton, AB T5A 3R3  185000             3   \n",
      "4            4611 128th Ave NW, Edmonton, AB T5A 2M7  399900             4   \n",
      "5  7339 S Terwillegar Dr NW #1418, Edmonton, AB T...  130000             1   \n",
      "6             1711 109th St NW, Edmonton, AB T6J 5Z8  519900             5   \n",
      "7          13239 Delwood Rd NW, Edmonton, AB T5C 3B5  299990             5   \n",
      "8           12631 161st Ave NW, Edmonton, AB T5X 4W7  350000             4   \n",
      "\n",
      "   NumberOfBaths  Footage  \n",
      "0              2     1513  \n",
      "1              3     1215  \n",
      "2              2     1387  \n",
      "3              3     1019  \n",
      "4              3     1475  \n",
      "5              1      631  \n",
      "6              4     2161  \n",
      "7              2     1072  \n",
      "8              3     1083  \n"
     ]
    },
    {
     "name": "stderr",
     "output_type": "stream",
     "text": [
      "C:\\Users\\Calgary123\\AppData\\Local\\Temp\\ipykernel_6800\\2536140206.py:34: FutureWarning: The frame.append method is deprecated and will be removed from pandas in a future version. Use pandas.concat instead.\n",
      "  df = df.append(tempDF)\n"
     ]
    },
    {
     "name": "stdout",
     "output_type": "stream",
     "text": [
      "Empty DataFrame\n",
      "Columns: [MLS, City, Province, Address, Price, NumberOfBeds, NumberOfBaths, Footage]\n",
      "Index: []\n"
     ]
    },
    {
     "name": "stderr",
     "output_type": "stream",
     "text": [
      "C:\\Users\\Calgary123\\AppData\\Local\\Temp\\ipykernel_6800\\2536140206.py:34: FutureWarning: The frame.append method is deprecated and will be removed from pandas in a future version. Use pandas.concat instead.\n",
      "  df = df.append(tempDF)\n"
     ]
    },
    {
     "name": "stdout",
     "output_type": "stream",
     "text": [
      "Empty DataFrame\n",
      "Columns: [MLS, City, Province, Address, Price, NumberOfBeds, NumberOfBaths, Footage]\n",
      "Index: []\n"
     ]
    },
    {
     "name": "stderr",
     "output_type": "stream",
     "text": [
      "C:\\Users\\Calgary123\\AppData\\Local\\Temp\\ipykernel_6800\\2536140206.py:34: FutureWarning: The frame.append method is deprecated and will be removed from pandas in a future version. Use pandas.concat instead.\n",
      "  df = df.append(tempDF)\n"
     ]
    },
    {
     "name": "stdout",
     "output_type": "stream",
     "text": [
      "Empty DataFrame\n",
      "Columns: [MLS, City, Province, Address, Price, NumberOfBeds, NumberOfBaths, Footage]\n",
      "Index: []\n"
     ]
    },
    {
     "name": "stderr",
     "output_type": "stream",
     "text": [
      "C:\\Users\\Calgary123\\AppData\\Local\\Temp\\ipykernel_6800\\2536140206.py:34: FutureWarning: The frame.append method is deprecated and will be removed from pandas in a future version. Use pandas.concat instead.\n",
      "  df = df.append(tempDF)\n"
     ]
    },
    {
     "name": "stdout",
     "output_type": "stream",
     "text": [
      "Empty DataFrame\n",
      "Columns: [MLS, City, Province, Address, Price, NumberOfBeds, NumberOfBaths, Footage]\n",
      "Index: []\n"
     ]
    },
    {
     "name": "stderr",
     "output_type": "stream",
     "text": [
      "C:\\Users\\Calgary123\\AppData\\Local\\Temp\\ipykernel_6800\\2536140206.py:34: FutureWarning: The frame.append method is deprecated and will be removed from pandas in a future version. Use pandas.concat instead.\n",
      "  df = df.append(tempDF)\n"
     ]
    },
    {
     "name": "stdout",
     "output_type": "stream",
     "text": [
      "Empty DataFrame\n",
      "Columns: [MLS, City, Province, Address, Price, NumberOfBeds, NumberOfBaths, Footage]\n",
      "Index: []\n"
     ]
    },
    {
     "name": "stderr",
     "output_type": "stream",
     "text": [
      "C:\\Users\\Calgary123\\AppData\\Local\\Temp\\ipykernel_6800\\2536140206.py:34: FutureWarning: The frame.append method is deprecated and will be removed from pandas in a future version. Use pandas.concat instead.\n",
      "  df = df.append(tempDF)\n"
     ]
    },
    {
     "name": "stdout",
     "output_type": "stream",
     "text": [
      "Empty DataFrame\n",
      "Columns: [MLS, City, Province, Address, Price, NumberOfBeds, NumberOfBaths, Footage]\n",
      "Index: []\n",
      "        MLS       City Province  \\\n",
      "0  SK913993  Saskatoon       SK   \n",
      "1  SK914061  Saskatoon       SK   \n",
      "2  SK914153  Saskatoon       SK   \n",
      "3  SK914148  Saskatoon       SK   \n",
      "4  SK914086  Saskatoon       SK   \n",
      "5  SK914075  Saskatoon       SK   \n",
      "6  SK914144  Saskatoon       SK   \n",
      "7  SK914082  Saskatoon       SK   \n",
      "8  SK914108  Saskatoon       SK   \n",
      "0  E4320360   Edmonton       AB   \n",
      "1  E4320364   Edmonton       AB   \n",
      "2  E4320358   Edmonton       AB   \n",
      "3  E4320355   Edmonton       AB   \n",
      "4  E4320309   Edmonton       AB   \n",
      "5  E4320357   Edmonton       AB   \n",
      "6  E4320331   Edmonton       AB   \n",
      "7  E4320291   Edmonton       AB   \n",
      "8  E4320295   Edmonton       AB   \n",
      "\n",
      "                                             Address   Price NumberOfBeds  \\\n",
      "0            207 Lehrer PLACE, Saskatoon, SK S7R 0L4  669900            3   \n",
      "1          3104 Ortona STREET, Saskatoon, SK S7M 3R4  619900            3   \n",
      "2        714A Victoria AVENUE, Saskatoon, SK S7N 0Z2  374900            3   \n",
      "3      246 Frobisher CRESCENT, Saskatoon, SK S7K 4Y7  479900            5   \n",
      "4           739 Hastings COVE, Saskatoon, SK S7V 0G6  899900            4   \n",
      "5          334 Crean CRESCENT, Saskatoon, SK S7J 3X2  419900            4   \n",
      "6    962 Kloppenburg CRESCENT, Saskatoon, SK S7W 0P2  559900            5   \n",
      "7         2435 Rosewood DRIVE, Saskatoon, SK S7V 0Z3  554300            3   \n",
      "8                 1 Bow COURT, Saskatoon, SK S7K 1H9  399000            4   \n",
      "0             14611 95th St NW, Edmonton, AB T5E 3Y7  575000            6   \n",
      "1            10465 42nd Ave NW, Edmonton, AB T6J 7C7  429900            2   \n",
      "2            10346 142nd St NW, Edmonton, AB T5N 2P1  393000            5   \n",
      "3            5512 145th Ave NW, Edmonton, AB T5A 3R3  185000            3   \n",
      "4            4611 128th Ave NW, Edmonton, AB T5A 2M7  399900            4   \n",
      "5  7339 S Terwillegar Dr NW #1418, Edmonton, AB T...  130000            1   \n",
      "6             1711 109th St NW, Edmonton, AB T6J 5Z8  519900            5   \n",
      "7          13239 Delwood Rd NW, Edmonton, AB T5C 3B5  299990            5   \n",
      "8           12631 161st Ave NW, Edmonton, AB T5X 4W7  350000            4   \n",
      "\n",
      "  NumberOfBaths Footage  \n",
      "0             2    1744  \n",
      "1             3    1470  \n",
      "2             3    1290  \n",
      "3             3    1953  \n",
      "4             3    1837  \n",
      "5             3    1295  \n",
      "6             3    1574  \n",
      "7             3    1737  \n",
      "8             3    1136  \n",
      "0             2    1513  \n",
      "1             3    1215  \n",
      "2             2    1387  \n",
      "3             3    1019  \n",
      "4             3    1475  \n",
      "5             1     631  \n",
      "6             4    2161  \n",
      "7             2    1072  \n",
      "8             3    1083  \n"
     ]
    },
    {
     "name": "stderr",
     "output_type": "stream",
     "text": [
      "C:\\Users\\Calgary123\\AppData\\Local\\Temp\\ipykernel_6800\\2536140206.py:34: FutureWarning: The frame.append method is deprecated and will be removed from pandas in a future version. Use pandas.concat instead.\n",
      "  df = df.append(tempDF)\n"
     ]
    }
   ],
   "source": [
    "import pandas as pd\n",
    "df = pd.DataFrame(columns = ['MLS','City','Province','Address', 'Price', 'NumberOfBeds', 'NumberOfBaths', 'Footage'] )\n",
    "#some random locations for us to scrape, if scraping 2 cities in the same province, we should switch to a list of tuples\n",
    "\n",
    "queryLocations = [[\"SK\", \"Saskatoon\"]\n",
    "                 ,[\"AB\", \"Edmonton\"]\n",
    "                 ,[\"AB\", \"Calgary\"]\n",
    "                 ,[\"ON\", \"Toronto\"]\n",
    "                 ,[\"ON\", \"Mississauga\"]\n",
    "                 ,[\"NS\", \"Halifax\"]\n",
    "                 ,[\"BC\", \"Vancouver\"]\n",
    "                 ,[\"MB\", \"Winnipeg\"]]\n",
    "\n",
    "for i in queryLocations:\n",
    "    province = i[0]\n",
    "    city = i[1]\n",
    "    bsobj = scrapeData(city, province)\n",
    "    price = getPrice(bsobj)\n",
    "    address = getAddress(bsobj)\n",
    "    mls = getMLS(bsobj)\n",
    "    bed, bath, footage = getPropertyFeature(bsobj)\n",
    "    \n",
    "    #build a dataframe for each query\n",
    "    tempDF = pd.DataFrame()\n",
    "    tempDF['MLS'] = mls\n",
    "    tempDF['City'] = city\n",
    "    tempDF['Province'] = province\n",
    "    tempDF['Address'] = address\n",
    "    tempDF['Price'] = price\n",
    "    tempDF['NumberOfBeds'] = bed\n",
    "    tempDF['NumberOfBaths'] = bath\n",
    "    tempDF['Footage'] = footage\n",
    "    print(tempDF)\n",
    "    df = df.append(tempDF)\n",
    "\n",
    "print(df)"
   ]
  },
  {
   "cell_type": "code",
   "execution_count": 172,
   "id": "e6f8d928",
   "metadata": {},
   "outputs": [],
   "source": [
    "#df.to_csv('properties.csv')"
   ]
  },
  {
   "cell_type": "code",
   "execution_count": null,
   "id": "08b4ab1e",
   "metadata": {},
   "outputs": [],
   "source": []
  }
 ],
 "metadata": {
  "kernelspec": {
   "display_name": "Python 3 (ipykernel)",
   "language": "python",
   "name": "python3"
  },
  "language_info": {
   "codemirror_mode": {
    "name": "ipython",
    "version": 3
   },
   "file_extension": ".py",
   "mimetype": "text/x-python",
   "name": "python",
   "nbconvert_exporter": "python",
   "pygments_lexer": "ipython3",
   "version": "3.8.13"
  }
 },
 "nbformat": 4,
 "nbformat_minor": 5
}
